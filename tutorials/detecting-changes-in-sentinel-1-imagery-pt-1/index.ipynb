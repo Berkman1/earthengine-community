{
  "nbformat": 4,
  "nbformat_minor": 0,
  "metadata": {
    "colab": {
      "name": "Detecting Changes in Sentinel-1 Imagery (Part 1)",
      "provenance": []
    },
    "kernelspec": {
      "name": "python3",
      "display_name": "Python 3"
    }
  },
  "cells": [
    {
      "cell_type": "code",
      "metadata": {
        "id": "8kdsGkYJXXKc"
      },
      "source": [
        "#@title Copyright 2020 The Earth Engine Community Authors { display-mode: \"form\" }\n",
        "#\n",
        "# Licensed under the Apache License, Version 2.0 (the \"License\");\n",
        "# you may not use this file except in compliance with the License.\n",
        "# You may obtain a copy of the License at\n",
        "#\n",
        "# https://www.apache.org/licenses/LICENSE-2.0\n",
        "#\n",
        "# Unless required by applicable law or agreed to in writing, software\n",
        "# distributed under the License is distributed on an \"AS IS\" BASIS,\n",
        "# WITHOUT WARRANTIES OR CONDITIONS OF ANY KIND, either express or implied.\n",
        "# See the License for the specific language governing permissions and\n",
        "# limitations under the License."
      ],
      "execution_count": null,
      "outputs": []
    },
    {
      "cell_type": "markdown",
      "metadata": {
        "id": "LNiZKg4sl78g"
      },
      "source": [
        "# Detecting Changes in Sentinel-1 Imagery (Part 1)\n",
        "Author: mortcanty\n",
        "\n",
        "In this tutorial we will analyze synthetic aperture radar (SAR) imagery  in order to detect statistically significant changes on the Earth surface. As the adverb \"statistically\" hints, we will need a basic understanding of the statistical properties of SAR imagery in order to proceed, and the adjective \"significant\" implies that we  learn the fundamentals of hypothesis testing. In particular we will be concerned with time series of the dual polarimetric intensity Sentinel-1 SAR images in the GEE archive. The tutorial is in four parts:\n",
        "\n",
        "- 1. Single and multi-look image statistics\n",
        "- 2. Hypothesis testing\n",
        "- 3. Multitemporal change detection\n",
        "- 4. Applications\n",
        "\n",
        "Much of the material is based on Chapters 5 and 9 of my text [Image Analysis, Classification and Change Detection in Remote Sensing](https://www.taylorfrancis.com/books/9780429464348), and the most relevant original publications are [Conradsen et al. (2003)](https://ieeexplore.ieee.org/document/1183688),  [Conradsen et al. (2016)](https://ieeexplore.ieee.org/document/7398022) and  [Canty et al. (2020)](https://www.mdpi.com/2072-4292/12/1/46).\n"
      ]
    },
    {
      "cell_type": "markdown",
      "metadata": {
        "id": "0YbuSTjRav14"
      },
      "source": [
        "## Context"
      ]
    },
    {
      "cell_type": "markdown",
      "metadata": {
        "id": "xJiEvqGsalrI"
      },
      "source": [
        "The [Sentinel-1 missions of the ESA]( https://sentinel.esa.int/web/sentinel/missions/sentinel-1) provide a fantastic source of weather-independent, day-or-night Earth observation data with repeat times of the order of 6 days. The Google Earth Engine team monitor and ingest the imagery data almost as fast as they are produced, thus removing the burden from the user of searching, downloading, pre-processing and georeferencing. The JavaScript and Python API's to GEE can then be easily programmed to analyze time series of Sentinel-1 acquisitions virtually anywhere on the globe. Detected changes, both short- and long-term, can be related to landscape dynamics and human activity.\n",
        "\n"
      ]
    },
    {
      "cell_type": "markdown",
      "metadata": {
        "id": "zbzxAsmgbPgT"
      },
      "source": [
        "## Prerequisites"
      ]
    },
    {
      "cell_type": "markdown",
      "metadata": {
        "id": "90jejz89a7yR"
      },
      "source": [
        "A basic knowledge of the Sentinel-1 SAR platform is assumed on the part of the reader,  at the level of the [ESA User Guides](https://sentinel.esa.int/web/sentinel/user-guides/sentinel-1-sar). The reader should also be familiar with ordinary Python syntax and also with the GEE API (Python or JavaScript, it doesn't matter as they are almost identical).\n",
        "We will take a relaxed view of statistical formalism, without clearly distinguishing random variables from their realizations (measurements). We assume that the reader has, at least, an intuitive understanding of the mean and variance of independent measurements $x_i$ of a quantity $x$,\n",
        "\n",
        "$$\n",
        "{\\rm mean}(x) = {1\\over n}\\sum_{i=1}^n x_i\n",
        "$$\n",
        "$$\n",
        "{\\rm var}(x) = {1\\over n}\\sum_{i=1}^n(x_i-{\\rm mean}(x))^2\n",
        "$$\n",
        "\n",
        "and that the measurements can be described by a probability density function\n",
        "$p(x)$ with\n",
        "\n",
        "$$\n",
        "\\quad {\\rm mean}(x) = \\int_{-\\infty}^\\infty x p(x)dx,\\quad {\\rm var}(x) = \\int_{-\\infty}^\\infty (x-{\\rm mean}(x))^2 p(x)dx\n",
        "$$\n",
        "and\n",
        "$$\n",
        "\\quad \\int_{-\\infty}^\\infty p(x)dx = 1.\n",
        "$$\n",
        "\n",
        "More statistics will be introduced as needed.\n",
        "A highly recommended reference is [Freund's Mathematical Statistics](https://www.amazon.de/John-Freunds-Mathematical-Statistics/dp/013123613X/ref=sr_1_8?__mk_de_DE=%C3%85M%C3%85%C5%BD%C3%95%C3%91&dchild=1&keywords=freund+mathematical+statistics&qid=1597837319&sr=8-8)."
      ]
    },
    {
      "cell_type": "markdown",
      "metadata": {
        "id": "l18M9_r5XmAQ"
      },
      "source": [
        "\n",
        "## Part 1. Single and multi-look image statistics\n",
        "\n"
      ]
    },
    {
      "cell_type": "markdown",
      "metadata": {
        "id": "U7i55vr_aKCB"
      },
      "source": [
        "### Run me first\n",
        "\n",
        "Run the following cell to initialize the API. The output will contain instructions on how to grant this notebook access to Earth Engine using your account."
      ]
    },
    {
      "cell_type": "code",
      "metadata": {
        "id": "XeFsiSp2aDL6"
      },
      "source": [
        "import ee\n",
        "\n",
        "# Trigger the authentication flow.\n",
        "ee.Authenticate()\n",
        "\n",
        "# Initialize the library.\n",
        "ee.Initialize(project='ee-finisterragaia123')          #Utilizamos el initialize para poder llamar al proyecto en donde queremos que se desarrolle la detección de cambios."
      ],
      "execution_count": 2,
      "outputs": []
    },
    {
      "cell_type": "markdown",
      "metadata": {
        "id": "VOf_UnIcZKBJ"
      },
      "source": [
        "### Datasets and Python modules\n",
        "Two [datasets](https://developers.google.com/earth-engine/datasets/catalog/COPERNICUS_S1_GRD) will be used in the tutorial:\n",
        "\n",
        "- COPERNICUS/S1_GRD_FLOAT\n",
        "    - Sentinel-1 ground range detected images\n",
        "- COPERNICUS/S1_GRD  \n",
        "    - Sentinel-1 ground range detected images converted to decibels\n",
        "\n",
        "The following cell imports some python modules which we will be using as we go along,  and also enables inline graphics."
      ]
    },
    {
      "cell_type": "code",
      "metadata": {
        "id": "JR0cxCpeIxoY"
      },
      "source": [
        "import matplotlib.pyplot as plt\n",
        "import numpy as np\n",
        "from scipy.stats import norm, gamma, f, chi2\n",
        "import IPython.display as disp\n",
        "%matplotlib inline"
      ],
      "execution_count": 3,
      "outputs": []
    },
    {
      "cell_type": "markdown",
      "metadata": {
        "id": "eelxHh2qc6xg"
      },
      "source": [
        "And in order to make use of interactive maps, we import the _folium_ package:"
      ]
    },
    {
      "cell_type": "code",
      "metadata": {
        "id": "VIiyf6azf4mU"
      },
      "source": [
        "# Import the Folium library.\n",
        "import folium\n",
        "\n",
        "# Define a method for displaying Earth Engine image tiles to folium map.\n",
        "def add_ee_layer(self, ee_image_object, vis_params, name):\n",
        "  map_id_dict = ee.Image(ee_image_object).getMapId(vis_params)\n",
        "  folium.raster_layers.TileLayer(\n",
        "    tiles = map_id_dict['tile_fetcher'].url_format,\n",
        "    attr = 'Map Data &copy; <a href=\"https://earthengine.google.com/\">Google Earth Engine</a>',\n",
        "    name = name,\n",
        "    overlay = True,\n",
        "    control = True\n",
        "  ).add_to(self)\n",
        "\n",
        "# Add EE drawing method to folium.\n",
        "folium.Map.add_ee_layer = add_ee_layer"
      ],
      "execution_count": 4,
      "outputs": []
    },
    {
      "cell_type": "markdown",
      "metadata": {
        "id": "r-GuxE6lJHHx"
      },
      "source": [
        "### A Sentinel-1 image\n",
        "\n",
        "Let's start work by grabbing a spatial subset of a Sentinel-1 image from the archive. We'll define an region of interest (AOI) as the long-lat corners of a rectangle over the Frankfurt Airport. A convenient way to do this is with the [geojson.io](http://geojson.io/#map=2/20.0/0.0) website, from which we can cut and paste the corresponding GeoJSON object description."
      ]
    },
    {
      "cell_type": "code",
      "metadata": {
        "id": "Hww9JAK0JgFm"
      },
      "source": [
        "geoJSON = {\n",
        "  \"type\": \"FeatureCollection\",\n",
        "  \"features\": [\n",
        "    {\n",
        "      \"type\": \"Feature\",\n",
        "      \"properties\": {},\n",
        "      \"geometry\": {\n",
        "        \"type\": \"Polygon\",\n",
        "        \"coordinates\": [\n",
        "          [\n",
        "            [\n",
        "              8.473892211914062,\n",
        "              49.98081240937428\n",
        "            ],\n",
        "            [\n",
        "              8.658599853515625,\n",
        "              49.98081240937428\n",
        "            ],\n",
        "            [\n",
        "              8.658599853515625,\n",
        "              50.06066538593667\n",
        "            ],\n",
        "            [\n",
        "              8.473892211914062,\n",
        "              50.06066538593667\n",
        "            ],\n",
        "            [\n",
        "              8.473892211914062,\n",
        "              49.98081240937428\n",
        "            ]\n",
        "          ]\n",
        "        ]\n",
        "      }\n",
        "    }\n",
        "  ]\n",
        "}"
      ],
      "execution_count": 5,
      "outputs": []
    },
    {
      "cell_type": "markdown",
      "source": [],
      "metadata": {
        "id": "SeTKObBWsYUE"
      }
    },
    {
      "cell_type": "markdown",
      "metadata": {
        "id": "VySnRWy3K0Jk"
      },
      "source": [
        "Note that the last and first corners are identical, indicating closure of the polygon. We have to bore down into the GeoJSON structure to get the geometry coordinates, then create an _ee.Geometry()_ object:"
      ]
    },
    {
      "cell_type": "code",
      "metadata": {
        "id": "PRWSgszXTjFw"
      },
      "source": [
        "coords = geoJSON['features'][0]['geometry']['coordinates']\n",
        "aoi = ee.Geometry.Polygon(coords)"
      ],
      "execution_count": 6,
      "outputs": []
    },
    {
      "cell_type": "markdown",
      "metadata": {
        "id": "C6rM63_lTqJ9"
      },
      "source": [
        "Next, we filter the S1 archive to get an image over the _aoi_ acquired sometime in August, 2020. Any old image will do fine, so we won't bother to specify the orbit number or whether we want the ASCENDING or DESCENDING node. If we don't specify the instrument mode or resolution, we get _IW_ (interferometric wide swath) mode and $10\\times 10\\ m^2$ pixels by default. For convenience we grab both decibel and float versions:"
      ]
    },
    {
      "cell_type": "code",
      "metadata": {
        "id": "ALF5YkahTvRl"
      },
      "source": [
        "ffa_db = ee.Image(ee.ImageCollection('COPERNICUS/S1_GRD')                     #Sentinel 1 contiene imagenes que pueden ser tanto decendentes como ascendentes, por lo que se debe filtar esas imagenes a través del uso del GRD de los decibeles y de los flotantes que arroja la imagen.\n",
        "                       .filterBounds(aoi)\n",
        "                       .filterDate(ee.Date('2020-08-01'), ee.Date('2020-08-31'))\n",
        "                       .first()\n",
        "                       .clip(aoi))\n",
        "ffa_fl = ee.Image(ee.ImageCollection('COPERNICUS/S1_GRD_FLOAT')\n",
        "                       .filterBounds(aoi)\n",
        "                       .filterDate(ee.Date('2020-08-01'), ee.Date('2020-08-31'))\n",
        "                       .first()\n",
        "                       .clip(aoi))"
      ],
      "execution_count": 7,
      "outputs": []
    },
    {
      "cell_type": "markdown",
      "metadata": {
        "id": "Tcj_XBgDT032"
      },
      "source": [
        "Notice that we have clipped the images to our _aoi_ so as not to work with the entire swath. To confirm that we have an image, we list its band names, fetching the result from the GEE servers with the _getInfo()_ class method:"
      ]
    },
    {
      "cell_type": "code",
      "metadata": {
        "id": "-h-0Jz68T5Tn",
        "colab": {
          "base_uri": "https://localhost:8080/"
        },
        "outputId": "4162b77b-3bc8-4cd0-bc64-0b5821abf561"
      },
      "source": [
        "ffa_db.bandNames().getInfo()         #Como las imagenes de sentinel 1 tienen un procesamiento complejo, y para confirmar que se tiene tanto la información ascendente como descendente usamos la expresión getInfo, para corroborar que las imagenes que elegimos sean las correctas."
      ],
      "execution_count": 8,
      "outputs": [
        {
          "output_type": "execute_result",
          "data": {
            "text/plain": [
              "['VV', 'VH', 'angle']"
            ]
          },
          "metadata": {},
          "execution_count": 8
        }
      ]
    },
    {
      "cell_type": "markdown",
      "metadata": {
        "id": "e6HujXvIT-EC"
      },
      "source": [
        "and display the VV band of the decibel version using the _getThumbURL()_ method and IPython's _display_ module. The float intensities $I$ are generally between 0 and 1, so we stretch the decibel image $10\\log_{10}(I)$ from $-20$ to $0$:"
      ]
    },
    {
      "cell_type": "code",
      "metadata": {
        "id": "gLICx5Y0UCvD",
        "colab": {
          "base_uri": "https://localhost:8080/",
          "height": 561
        },
        "outputId": "6d044089-de20-483a-ec3d-f9588c370bb5"
      },
      "source": [
        "url = ffa_db.select('VV').getThumbURL({'min': -20, 'max': 0})\n",
        "disp.Image(url=url, width=800)                                    #El código extrae una miniatura de los datos de radar procesados (banda 'VV') con la escala de valores definida y la muestra como una imagen en el notebook."
      ],
      "execution_count": 9,
      "outputs": [
        {
          "output_type": "execute_result",
          "data": {
            "text/html": [
              "<img src=\"https://earthengine.googleapis.com/v1/projects/ee-finisterragaia123/thumbnails/019b7ed7ade4a947c82b4c743ce980c2-07974a9de428c1c12e44a2a10a7cab15:getPixels\" width=\"800\"/>"
            ],
            "text/plain": [
              "<IPython.core.display.Image object>"
            ]
          },
          "metadata": {},
          "execution_count": 9
        }
      ]
    },
    {
      "cell_type": "markdown",
      "metadata": {
        "id": "yAO0MhD5YuZC"
      },
      "source": [
        "This is fine, but a little boring. We can use _folium_ to project onto a map for geographical context. The _folium_ _Map()_ constructor wants its _location_ keyword in long-lat rather than lat-long, so we do a list reverse in the first line:"
      ]
    },
    {
      "cell_type": "code",
      "metadata": {
        "id": "Z8iPEdmkZPk0",
        "colab": {
          "base_uri": "https://localhost:8080/",
          "height": 730
        },
        "outputId": "2e62f910-45c8-4eca-c807-269ec8569646"
      },
      "source": [
        "location = aoi.centroid().coordinates().getInfo()[::-1]\n",
        "\n",
        "# Make an RGB color composite image (VV,VH,VV/VH).\n",
        "rgb = ee.Image.rgb(ffa_db.select('VV'),\n",
        "                   ffa_db.select('VH'),\n",
        "                   ffa_db.select('VV').divide(ffa_db.select('VH')))\n",
        "\n",
        "# Create the map object.\n",
        "m = folium.Map(location=location, zoom_start=12)\n",
        "\n",
        "# Add the S1 rgb composite to the map object.\n",
        "m.add_ee_layer(rgb, {'min': [-20, -20, 0], 'max': [0, 0, 2]}, 'FFA')       #Estas son las bandas que se seleccionaron del preprocesamiento de la imagen sentinel uno, con las bandas rojo \"VV\", verde \"VH\" y azul \"VV/VH\" respectivamente.\n",
        "\n",
        "# Add a layer control panel to the map.\n",
        "m.add_child(folium.LayerControl())\n",
        "\n",
        "# Display the map.\n",
        "display(m)\n",
        "\n",
        "\n",
        "#Este código crea un mapa interactivo centrado en el área de interés (AOI). La capa principal es una composición RGB basada en datos de radar Sentinel-1, que permite visualizar la retrodispersión y analizar características del terreno o cambios en la superficie."
      ],
      "execution_count": 10,
      "outputs": [
        {
          "output_type": "display_data",
          "data": {
            "text/plain": [
              "<folium.folium.Map at 0x7c3e0c4ee8c0>"
            ],
            "text/html": [
              "<div style=\"width:100%;\"><div style=\"position:relative;width:100%;height:0;padding-bottom:60%;\"><span style=\"color:#565656\">Make this Notebook Trusted to load map: File -> Trust Notebook</span><iframe srcdoc=\"&lt;!DOCTYPE html&gt;\n",
              "&lt;html&gt;\n",
              "&lt;head&gt;\n",
              "    \n",
              "    &lt;meta http-equiv=&quot;content-type&quot; content=&quot;text/html; charset=UTF-8&quot; /&gt;\n",
              "    \n",
              "        &lt;script&gt;\n",
              "            L_NO_TOUCH = false;\n",
              "            L_DISABLE_3D = false;\n",
              "        &lt;/script&gt;\n",
              "    \n",
              "    &lt;style&gt;html, body {width: 100%;height: 100%;margin: 0;padding: 0;}&lt;/style&gt;\n",
              "    &lt;style&gt;#map {position:absolute;top:0;bottom:0;right:0;left:0;}&lt;/style&gt;\n",
              "    &lt;script src=&quot;https://cdn.jsdelivr.net/npm/leaflet@1.9.3/dist/leaflet.js&quot;&gt;&lt;/script&gt;\n",
              "    &lt;script src=&quot;https://code.jquery.com/jquery-3.7.1.min.js&quot;&gt;&lt;/script&gt;\n",
              "    &lt;script src=&quot;https://cdn.jsdelivr.net/npm/bootstrap@5.2.2/dist/js/bootstrap.bundle.min.js&quot;&gt;&lt;/script&gt;\n",
              "    &lt;script src=&quot;https://cdnjs.cloudflare.com/ajax/libs/Leaflet.awesome-markers/2.0.2/leaflet.awesome-markers.js&quot;&gt;&lt;/script&gt;\n",
              "    &lt;link rel=&quot;stylesheet&quot; href=&quot;https://cdn.jsdelivr.net/npm/leaflet@1.9.3/dist/leaflet.css&quot;/&gt;\n",
              "    &lt;link rel=&quot;stylesheet&quot; href=&quot;https://cdn.jsdelivr.net/npm/bootstrap@5.2.2/dist/css/bootstrap.min.css&quot;/&gt;\n",
              "    &lt;link rel=&quot;stylesheet&quot; href=&quot;https://netdna.bootstrapcdn.com/bootstrap/3.0.0/css/bootstrap-glyphicons.css&quot;/&gt;\n",
              "    &lt;link rel=&quot;stylesheet&quot; href=&quot;https://cdn.jsdelivr.net/npm/@fortawesome/fontawesome-free@6.2.0/css/all.min.css&quot;/&gt;\n",
              "    &lt;link rel=&quot;stylesheet&quot; href=&quot;https://cdnjs.cloudflare.com/ajax/libs/Leaflet.awesome-markers/2.0.2/leaflet.awesome-markers.css&quot;/&gt;\n",
              "    &lt;link rel=&quot;stylesheet&quot; href=&quot;https://cdn.jsdelivr.net/gh/python-visualization/folium/folium/templates/leaflet.awesome.rotate.min.css&quot;/&gt;\n",
              "    \n",
              "            &lt;meta name=&quot;viewport&quot; content=&quot;width=device-width,\n",
              "                initial-scale=1.0, maximum-scale=1.0, user-scalable=no&quot; /&gt;\n",
              "            &lt;style&gt;\n",
              "                #map_5eb3cd09b91dc8868a800fe0a2af0394 {\n",
              "                    position: relative;\n",
              "                    width: 100.0%;\n",
              "                    height: 100.0%;\n",
              "                    left: 0.0%;\n",
              "                    top: 0.0%;\n",
              "                }\n",
              "                .leaflet-container { font-size: 1rem; }\n",
              "            &lt;/style&gt;\n",
              "        \n",
              "&lt;/head&gt;\n",
              "&lt;body&gt;\n",
              "    \n",
              "    \n",
              "            &lt;div class=&quot;folium-map&quot; id=&quot;map_5eb3cd09b91dc8868a800fe0a2af0394&quot; &gt;&lt;/div&gt;\n",
              "        \n",
              "&lt;/body&gt;\n",
              "&lt;script&gt;\n",
              "    \n",
              "    \n",
              "            var map_5eb3cd09b91dc8868a800fe0a2af0394 = L.map(\n",
              "                &quot;map_5eb3cd09b91dc8868a800fe0a2af0394&quot;,\n",
              "                {\n",
              "                    center: [50.02076448259734, 8.566246032714204],\n",
              "                    crs: L.CRS.EPSG3857,\n",
              "                    ...{\n",
              "  &quot;zoom&quot;: 12,\n",
              "  &quot;zoomControl&quot;: true,\n",
              "  &quot;preferCanvas&quot;: false,\n",
              "}\n",
              "\n",
              "                }\n",
              "            );\n",
              "\n",
              "            \n",
              "\n",
              "        \n",
              "    \n",
              "            var tile_layer_d2494b50fb39b3a1ed2f22d7c2a03159 = L.tileLayer(\n",
              "                &quot;https://tile.openstreetmap.org/{z}/{x}/{y}.png&quot;,\n",
              "                {\n",
              "  &quot;minZoom&quot;: 0,\n",
              "  &quot;maxZoom&quot;: 19,\n",
              "  &quot;maxNativeZoom&quot;: 19,\n",
              "  &quot;noWrap&quot;: false,\n",
              "  &quot;attribution&quot;: &quot;\\u0026copy; \\u003ca href=\\&quot;https://www.openstreetmap.org/copyright\\&quot;\\u003eOpenStreetMap\\u003c/a\\u003e contributors&quot;,\n",
              "  &quot;subdomains&quot;: &quot;abc&quot;,\n",
              "  &quot;detectRetina&quot;: false,\n",
              "  &quot;tms&quot;: false,\n",
              "  &quot;opacity&quot;: 1,\n",
              "}\n",
              "\n",
              "            );\n",
              "        \n",
              "    \n",
              "            tile_layer_d2494b50fb39b3a1ed2f22d7c2a03159.addTo(map_5eb3cd09b91dc8868a800fe0a2af0394);\n",
              "        \n",
              "    \n",
              "            var tile_layer_24ace7947f7aaeb17493b89553fc2a6e = L.tileLayer(\n",
              "                &quot;https://earthengine.googleapis.com/v1/projects/ee-finisterragaia123/maps/e897c69384f60667feb69b8b6f308610-a8c4d61ff517aadf0d383f14a106baec/tiles/{z}/{x}/{y}&quot;,\n",
              "                {\n",
              "  &quot;minZoom&quot;: 0,\n",
              "  &quot;maxZoom&quot;: 18,\n",
              "  &quot;maxNativeZoom&quot;: 18,\n",
              "  &quot;noWrap&quot;: false,\n",
              "  &quot;attribution&quot;: &quot;Map Data \\u0026copy; \\u003ca href=\\&quot;https://earthengine.google.com/\\&quot;\\u003eGoogle Earth Engine\\u003c/a\\u003e&quot;,\n",
              "  &quot;subdomains&quot;: &quot;abc&quot;,\n",
              "  &quot;detectRetina&quot;: false,\n",
              "  &quot;tms&quot;: false,\n",
              "  &quot;opacity&quot;: 1,\n",
              "}\n",
              "\n",
              "            );\n",
              "        \n",
              "    \n",
              "            tile_layer_24ace7947f7aaeb17493b89553fc2a6e.addTo(map_5eb3cd09b91dc8868a800fe0a2af0394);\n",
              "        \n",
              "    \n",
              "            var layer_control_0d8d1d0a8bb208cfc8d7c9787bf3c2bc_layers = {\n",
              "                base_layers : {\n",
              "                    &quot;openstreetmap&quot; : tile_layer_d2494b50fb39b3a1ed2f22d7c2a03159,\n",
              "                },\n",
              "                overlays :  {\n",
              "                    &quot;FFA&quot; : tile_layer_24ace7947f7aaeb17493b89553fc2a6e,\n",
              "                },\n",
              "            };\n",
              "            let layer_control_0d8d1d0a8bb208cfc8d7c9787bf3c2bc = L.control.layers(\n",
              "                layer_control_0d8d1d0a8bb208cfc8d7c9787bf3c2bc_layers.base_layers,\n",
              "                layer_control_0d8d1d0a8bb208cfc8d7c9787bf3c2bc_layers.overlays,\n",
              "                {\n",
              "  &quot;position&quot;: &quot;topright&quot;,\n",
              "  &quot;collapsed&quot;: true,\n",
              "  &quot;autoZIndex&quot;: true,\n",
              "}\n",
              "            ).addTo(map_5eb3cd09b91dc8868a800fe0a2af0394);\n",
              "\n",
              "        \n",
              "&lt;/script&gt;\n",
              "&lt;/html&gt;\" style=\"position:absolute;width:100%;height:100%;left:0;top:0;border:none !important;\" allowfullscreen webkitallowfullscreen mozallowfullscreen></iframe></div></div>"
            ]
          },
          "metadata": {}
        }
      ]
    },
    {
      "cell_type": "markdown",
      "metadata": {
        "id": "-k9V1U0JUTd7"
      },
      "source": [
        "### Pixel distributions\n",
        "\n",
        "In order to examine the statistics of the pixels in this image empirically, we'll need samples from a featureless (textureless) spatial subset. Here is a polygon covering the triangular wooded area just east of the north-south runway:"
      ]
    },
    {
      "cell_type": "code",
      "metadata": {
        "id": "zNhZRKV4UX51"
      },
      "source": [
        "geoJSON = {\n",
        "  \"type\": \"FeatureCollection\",\n",
        "  \"features\": [\n",
        "    {\n",
        "      \"type\": \"Feature\",\n",
        "      \"properties\": {},\n",
        "      \"geometry\": {\n",
        "        \"type\": \"Polygon\",\n",
        "        \"coordinates\": [\n",
        "          [\n",
        "            [\n",
        "              8.534317016601562,\n",
        "              50.021637833966786\n",
        "            ],\n",
        "            [\n",
        "              8.530540466308594,\n",
        "              49.99780882512238\n",
        "            ],\n",
        "            [\n",
        "              8.564186096191406,\n",
        "              50.00663576154257\n",
        "            ],\n",
        "            [\n",
        "              8.578605651855469,\n",
        "              50.019431940583104\n",
        "            ],\n",
        "            [\n",
        "              8.534317016601562,\n",
        "              50.021637833966786\n",
        "            ]\n",
        "          ]\n",
        "        ]\n",
        "      }\n",
        "    }\n",
        "  ]\n",
        "}\n",
        "coords = geoJSON['features'][0]['geometry']['coordinates']\n",
        "aoi_sub = ee.Geometry.Polygon(coords)"
      ],
      "execution_count": 11,
      "outputs": []
    },
    {
      "cell_type": "markdown",
      "metadata": {
        "id": "iMnUgrxvUfte"
      },
      "source": [
        "Using standard reducers from the GEE library we can easily calculate a histogram and estimate the first two moments (mean and variance) of the pixels in the polygon _aoi\\_sub_ , again retrieving the results from the servers with _getInfo()_ ."
      ]
    },
    {
      "cell_type": "code",
      "metadata": {
        "id": "KfjUo-FyUklG"
      },
      "source": [
        "hist = ffa_fl.select('VV').reduceRegion(\n",
        "    ee.Reducer.fixedHistogram(0, 0.5, 500),aoi_sub).get('VV').getInfo()\n",
        "mean = ffa_fl.select('VV').reduceRegion(\n",
        "    ee.Reducer.mean(), aoi_sub).get('VV').getInfo()\n",
        "variance = ffa_fl.select('VV').reduceRegion(\n",
        "    ee.Reducer.variance(), aoi_sub).get('VV').getInfo()\n",
        "\n",
        "    # Resultado: 'variance' es un número que mide la dispersión de los valores de la banda 'VV'.\n",
        "# Una varianza alta indica una superficie heterogénea, mientras que una baja sugiere una superficie más uniforme."
      ],
      "execution_count": 12,
      "outputs": []
    },
    {
      "cell_type": "markdown",
      "metadata": {
        "id": "AcC98FbvUpmz"
      },
      "source": [
        "Here is a plot of the (normalized) histogram using _numpy_ and _matplotlib_ :"
      ]
    },
    {
      "cell_type": "code",
      "metadata": {
        "id": "pMgsrzHHUuSX",
        "colab": {
          "base_uri": "https://localhost:8080/",
          "height": 430
        },
        "outputId": "530393c2-98c0-4dc4-bfaa-c996470e0865"
      },
      "source": [
        "a = np.array(hist)\n",
        "x = a[:, 0]                 # array of bucket edge positions\n",
        "y = a[:, 1]/np.sum(a[:, 1]) # # Normaliza los conteos de píxeles dividiendo cada valor por el total de píxeles.\n",
        "# Esto convierte los valores del eje Y en proporciones (densidad relativa) en lugar de conteos absolutos.\n",
        "\n",
        "plt.grid()\n",
        "plt.plot(x, y, '.')\n",
        "plt.show()"
      ],
      "execution_count": 13,
      "outputs": [
        {
          "output_type": "display_data",
          "data": {
            "text/plain": [
              "<Figure size 640x480 with 1 Axes>"
            ],
            "image/png": "[encoded data removed]"
          },
          "metadata": {}
        }
      ]
    },
    {
      "cell_type": "markdown",
      "metadata": {
        "id": "2zyPzJOzU16A"
      },
      "source": [
        "The above histogram is in fact a _gamma probability density distribution_\n",
        "\n",
        "$$\n",
        "p_{\\gamma;\\alpha,\\beta}(x) = {1\\over \\beta^\\alpha\\Gamma(\\alpha)}x^{\\alpha-1}e^{-x/\\beta},\\quad {\\rm mean}(x) = \\alpha\\beta,\\quad {\\rm var}(x) = \\alpha\\beta^2 \\tag{1.1}\n",
        "$$\n",
        "where\n",
        "$$\n",
        "\\Gamma(\\alpha) = \\int_0^\\infty z^{\\alpha-1}e^{-z} dz.\n",
        "$$\n",
        "\n",
        "The parameters are in this case $\\alpha = 5$ and $\\beta = {\\mu}/\\alpha$, where $\\mu$ is the estimated mean value we just determined with _ee.Reducer.mean()_.\n",
        "This can easily be verified by plotting the gamma distribution _gamma.pdf()_ and overlaying it onto the histogram. Since the bucket widths are 0.001, we have to divide the plot by 1000."
      ]
    },
    {
      "cell_type": "code",
      "metadata": {
        "id": "2vQjpWmJU9jf",
        "colab": {
          "base_uri": "https://localhost:8080/",
          "height": 430
        },
        "outputId": "d48b8418-ab9b-4bd4-c931-cfe24132a884"
      },
      "source": [
        "alpha = 5\n",
        "beta = mean/alpha\n",
        "plt.grid()\n",
        "plt.plot(x, y, '.', label='data')\n",
        "plt.plot(x, gamma.pdf(x, alpha, 0, beta)/1000, '-r', label='gamma')\n",
        "# Genera la curva teórica de la distribución gamma para comparar con los datos observados:\n",
        "# - 'gamma.pdf(x, alpha, 0, beta)': Calcula la densidad de probabilidad (PDF) de la distribución gamma para cada valor en 'x'.\n",
        "# - '/ 1000': Escala la curva para que se ajuste al rango de valores normalizados del histograma.\n",
        "# La curva se dibuja en rojo ('-r') y se etiqueta como 'gamma'.\n",
        "\n",
        "plt.legend()\n",
        "plt.show()"
      ],
      "execution_count": 14,
      "outputs": [
        {
          "output_type": "display_data",
          "data": {
            "text/plain": [
              "<Figure size 640x480 with 1 Axes>"
            ],
            "image/png": "[encoded data removed]"
          },
          "metadata": {}
        }
      ]
    },
    {
      "cell_type": "markdown",
      "metadata": {
        "id": "dDs648j5VDR9"
      },
      "source": [
        "In order to understand just why this is the case, let's take a step back and consider how the pixels were generated."
      ]
    },
    {
      "cell_type": "markdown",
      "metadata": {
        "id": "vvsqOV76adxT"
      },
      "source": [
        "\n",
        "### Single look complex (SLC) SAR measurements\n",
        "The Sentinel-1 platform is a dual polarimetric synthetic aperture radar system, emitting radar microwaves in the C-band with one polarization (vertical in most cases) and recording both vertical and horizontal reflected polarizations. This is represented mathematically as\n",
        "\n",
        "$$\n",
        "\\pmatrix{E_v^b\\cr E_h^b} = {e^{-{\\bf i}rk}\\over r}\\pmatrix{S_{vv} & S_{vh}\\cr S_{hv} & S_{hh}}\\pmatrix{E_v^i\\cr 0}. \\tag{1.2}\n",
        "$$\n",
        "\n",
        "The incident, vertically polarized radar signal $\\pmatrix{E_v^i\\cr 0}$ is transformed by a complex _scattering matrix_ $\\pmatrix{S_{vv} & S_{vh}\\cr S_{hv} & S_{hh}}$ into the backscattered signal $\\pmatrix{E_v^b\\cr E_h^b}$ having both vertical and horizontal polarization components. The exponent term accounts for the phase shift due to the return distance $r$ from target to sensor, where $k$ is the wave number, $k=2\\pi/\\lambda$. From measurement of the backscattered radiation at the sensor, two of the four complex scattering matrix elements can be derived and processed into two-dimensional (slant range $\\times$ azimuth) arrays, comprising the so-called _single look complex_ image. Written as a complex vector, the two derived elements are\n",
        "\n",
        "$$\n",
        "S = \\pmatrix{S_{vv}\\cr S_{vh}}.          \\tag{1.3}\n",
        "$$\n",
        "\n",
        "We write the complex transpose of the vector $S$ as $S^\\dagger = (S_{vv}^*\\ S_{vh}^*)$, where the $^*$ denotes complex conjugation. The inner product of $S$ with itself is the total power (also referred to as the _span_ image)\n",
        "\n",
        "$$\n",
        "P = S^\\dagger S = (S_{vv}^*\\ S_{vh}^*)\\pmatrix{S_{vv}\\cr S_{vh}} = |S_{vv}|^2 + |S_{vh}|^2 \\tag{1.4}\n",
        "$$\n",
        "\n",
        "and the outer product is the (dual pol) _covariance matrix image_\n",
        "\n",
        "$$\n",
        "C2 = SS^\\dagger = \\pmatrix{S_{vv}\\cr S_{vh}}(S_{vv}^*\\ S_{vh}^*) = \\pmatrix{|S_{vv}|^2 & S_{vv}^*S_{vh} \\cr S_{vh}^*S_{vv} & |S_{vh}|^2}. \\tag{1.5}\n",
        "$$\n",
        "\n",
        "The diagonal elements are real numbers, the off-diagonal elements are complex conjugates of each other and contain the relative phases of the $S_{vv}$ and $S_{vh}$ components. The off-diagonal elements are not available for S1 archived imagery in GEE, so that if we nevertheless choose to represent the data in covariance matrix form, the matrix is diagonal:\n",
        "\n",
        "$$\n",
        "C2 = \\pmatrix{|S_{vv}|^2 & 0 \\cr 0 & |S_{vh}|^2}, \\tag{1.6a}\n",
        "$$\n",
        "\n",
        "In terms of radar scattering cross sections (sigma nought),\n",
        "\n",
        "$$\n",
        "C2 = {1\\over 4\\pi}\\pmatrix{\\sigma^o_{vv}  & 0 \\cr 0 & \\sigma^o_{vh}}. \\tag{1.6b}\n",
        "$$\n"
      ]
    },
    {
      "cell_type": "markdown",
      "metadata": {
        "id": "eCkMh76EGnrD"
      },
      "source": [
        "### Speckle\n",
        "\n",
        "The most striking characteristic of SAR images, when compared to their visual/infrared\n",
        "counterparts, is the disconcerting _speckle_ effect which makes visual interpretation very\n",
        "difficult. Speckle gives the appearance of random noise, but\n",
        "it is actually a deterministic consequence of the coherent nature of the radar signal.\n",
        "\n",
        "For single polarization transmission and reception, e.g., vertical-vertical ($vv$), the received SLC signal can be modelled in the form\n",
        "\n",
        "$$\n",
        "S_{vv} = {|S^a_{vv}|\\over\\sqrt{n}}\\sum_{k=1}^n e^{{\\bf i}\\phi_k}, \\tag{1.7}\n",
        "$$\n",
        "\n",
        "where $|S^a_{vv}|$ is the overall amplitude characterizing the signal scattered from the  area covered by a single pixel, e.g., $10\\times 10\\ m^2$ for our S1 data,  with the phase set equal to zero for convenience. The effects of randomly distributed scatterers within the irradiated area, with dimensions  of the order of the incident wavelength  5.6 cm (for Sentinel-1), add coherently and introduce a change in phase of the  received signal. This is indicated by the sum term in the above equation. The effect varies from pixel to pixel and gives rise to speckle.\n",
        "\n",
        "If we expand Eq. (1.7) into its real and imaginary parts, we can understand it better:\n",
        "\n",
        "$$\n",
        "S_{vv} = {|S^a_{vv}|\\over\\sqrt{n}}\\sum_{k=1}^n e^{{\\bf i}\\phi_k} = {|S^a_{vv}|\\over\\sqrt{n}}\\left(\\sum_k\\cos\\phi_k + {\\bf i}\\sum_k\\sin\\phi_k\\right) =  {|S^a_{vv}|\\over\\sqrt{n}}(x + {\\bf i}y) \\tag{1.8}\n",
        "$$\n",
        "\n",
        "where\n",
        "\n",
        "$$\n",
        "x = \\sum_k\\cos\\phi_k, \\quad y = \\sum_k\\sin\\phi_k.\n",
        "$$\n",
        "\n",
        "Because the phase shifts $\\phi_k$ are randomly and uniformly distributed, the variables $x$ and $y$ are sums of identically distributed cosine and sine terms respectively. The __Central Limit Theorem__ of statistics then says that $x$ and $y$ will have a normal distribution with zero mean and variance $\\sigma^2 =n/2$ in the limit of large number $n$ of scatterers. We can verify this with a simple piece of code in which we set $n=10000$:"
      ]
    },
    {
      "cell_type": "code",
      "metadata": {
        "id": "jGx_jHFSanpR",
        "colab": {
          "base_uri": "https://localhost:8080/",
          "height": 430
        },
        "outputId": "f6435c0f-1ba3-4d6d-97f4-e2cd3816662d"
      },
      "source": [
        "def X(n):\n",
        "    return np.sum(np.cos(4*np.pi*(np.random.rand(n)-0.5)))/np.sqrt(n/2)\n",
        "\n",
        "n= 10000\n",
        "Xs = [X(n) for i in range(10000)]\n",
        "y, x = np.histogram(Xs, 100, range=[-5,5])\n",
        "# Calcula un histograma de los valores simulados:\n",
        "# - 'Xs': Los datos simulados.\n",
        "# - '100': Número de intervalos (bins) en el histograma.\n",
        "# - 'range=[-5, 5]': Define el rango del histograma.\n",
        "# 'y' contiene las frecuencias de los intervalos y 'x' contiene las posiciones de los bordes de los intervalos.\n",
        "\n",
        "plt.plot(x[:-1], y/1000, 'b.', label='simulated data')\n",
        "# Genera un gráfico de puntos para las frecuencias simuladas:\n",
        "# - 'x[:-1]': Utiliza las posiciones de los bordes de los intervalos excepto el último.\n",
        "# - 'y / 1000': Normaliza las frecuencias dividiéndolas por 1000 para escalar los datos.\n",
        "# - 'b.': Dibuja los puntos en color azul.\n",
        "\n",
        "plt.plot(x, norm.pdf(x), '-r', label='normal distribution')\n",
        "# Dibuja la curva de una distribución normal estándar para comparar con los datos simulados:\n",
        "# - 'norm.pdf(x)': Calcula la densidad de probabilidad de la distribución normal estándar (media=0, desviación estándar=1).\n",
        "# - '-r': Dibuja la curva como una línea roja.\n",
        "\n",
        "plt.grid()\n",
        "plt.legend()\n",
        "plt.show()"
      ],
      "execution_count": 15,
      "outputs": [
        {
          "output_type": "display_data",
          "data": {
            "text/plain": [
              "<Figure size 640x480 with 1 Axes>"
            ],
            "image/png": "[encoded data removed]"
          },
          "metadata": {}
        }
      ]
    },
    {
      "cell_type": "markdown",
      "metadata": {
        "id": "5Po6uERXauAB"
      },
      "source": [
        "Furthermore, $x$ and $y$ are uncorrelated since, in the expression for covariance of $x$ and $y$, the sums of products of cosine and sine terms cancel to zero. This means that  $x + {\\bf i}y$, and hence the observed single look complex signal $S_{vv}$ (see Eq. (1.8)), has a _complex normal distribution_ .\n",
        "\n",
        "Now what about the pixels values in the Sentinel-1 VV intensity images? They are given by the square of the amplitude of $S_{vv}$,\n",
        "\n",
        "$$\n",
        "|S_{vv}|^2 = S_{vv}S^*_{vv} = {|S^a_{vv}|^2\\over n}(x^2+y^2). \\tag{1.9}\n",
        "$$\n",
        "\n",
        "(Actually averages of the above, as we'll see later.) We can write this in the form\n",
        "\n",
        "$$\n",
        "|S_{vv}|^2 =  {|S^a_{vv}|^2\\over n}{n\\over 2}\\left({x^2\\over n/2}+{y^2\\over n/2}\\right) = |S^a_{vv}|^2{u\\over 2}, \\tag{1.10}\n",
        "$$\n",
        "\n",
        "where\n",
        "\n",
        "$$\n",
        "u = \\left({x^2\\over n/2}+{y^2\\over n/2}\\right) \\tag{1.11}\n",
        "$$\n",
        "\n",
        "is the sum of the squares of two variables with independent standard normal distributions. Applying the  \n",
        "\n",
        "   - __Theorem:__ If the measurements $x_i,\\ i=1\\dots m$, are independent and standard normally distributed (i.e., with mean $0$ and variance $1$), then the variable $x=\\sum_{i=1}^m x_i^2$ is  chi-square distributed with $m$ degrees of freedom, given by\n",
        "\n",
        "$$\n",
        "p_{\\chi^2;m}(x)={1 \\over 2^{m/2}\\Gamma(m/2)} z^{(m-2)/2} e^{-x/2},\\quad {\\rm mean}(x)=m,\\quad {\\rm var}(x) = 2m. \\tag{1.12}\n",
        "$$\n",
        "\n",
        "we see that $u$ is chi-square distributed with degrees of freedom $m=2$,\n",
        "\n",
        "$$\n",
        "p_u(u) = {1\\over 2}e^{-u/2} \\tag{1.13}\n",
        "$$\n",
        "\n",
        "since $\\Gamma(1)=1$.\n",
        "\n",
        "To simplify the notation, let $s=|S_{vv}|^2 $ and  $a=|S^a_{vv}|^2$. Then from (1.10)\n",
        "\n",
        "$$\n",
        "s = a{u\\over 2} \\tag{1.14}\n",
        "$$\n",
        "\n",
        "To get the distribution $p_s(s)$ of the observed signal from the distribution of $u$, we apply the standard transformation formula\n",
        "\n",
        "$$\n",
        "p_s(s) = p_u(u)\\left|{du\\over ds}\\right| = {1\\over 2}e^{-u/2}{2\\over a} = {1\\over a} e^{-s/a}. \\tag{1.15}\n",
        "$$\n",
        "\n",
        "Compare this with the definition of the _exponential probability distribution_\n",
        "\n",
        "$$\n",
        "p_{e;\\beta}(x) = {1\\over\\beta}e^{-x/\\beta},\\quad {\\rm mean}(x) = \\beta,\\quad {\\rm var}(x) = \\beta. \\tag{1.16}\n",
        "$$\n",
        "\n",
        "We conclude that the measured intensity signal $s=|S_{vv}|^2$ has an exponential distribution with mean and variance equal to the underlying signal strength $a=|S^a_{vv}|^2$.\n",
        "\n",
        "So far so good, however we still haven't quite characterized the statistics of the pixels in the intensity bands of the Sentinel-1 images.\n"
      ]
    },
    {
      "cell_type": "markdown",
      "metadata": {
        "id": "a1gYVejHb7jd"
      },
      "source": [
        "### Multi-look SAR statistics\n",
        "\n",
        "Multi-look processing essentially corresponds to the averaging of neighborhood pixels with the objective\n",
        "of reducing speckle and compressing the data. In practice, the averaging is often not performed in the\n",
        "spatial domain, but rather in the frequency domain during range/azimuth compression of the received signal.\n",
        "\n",
        "Look averaging takes place at the cost of spatial resolution. The spatial resolution attainable with SAR satellite platforms  involves, among many other considerations, a compromise between azimuthal resolution and swath width, see  [Moreira et al. (2013)](https://elib.dlr.de/82313/) for a good discussion. In the Sentinel-1 _Interferometric Wide Swath_ acquisition mode, the pixels are about 20m $\\times$ 4m (azimuth $\\times$ range) in extent and the swath widths are about 250km. For the multi-looking procedure, five cells are incoherently averaged in the range direction to achieve approx. $20m \\times 20m$ resolution. The pixels are then resampled to $10\\times 10\\ m^2$. (Note that spatial resolution is a measure of the system's ability to distinguish between adjacent targets while pixel spacing is the distance between adjacent pixels in an image, measured in metres.) The look averaging process, which we can symbolize using angular brackets as $\\langle |S_{vv}|^2 \\rangle$ or $\\langle |S_{vh}|^2 \\rangle$, has the desirable effect of reducing speckle (at the cost of resolution) in the intensity images. We can see this as follows, first quoting another well-known Theorem in statistics:\n",
        "\n",
        "   - __Theorem:__ If the quantities $s_i,\\ i=1\\dots m,$ are independent and each have exponential distributions given by Eq. (1.16), then $x = \\sum_{i=1}^m s_i$ has the gamma distribution Eq. (1.1) with $\\alpha=m,\\ \\beta=a$. Its mean is $\\alpha\\beta =ma$ and its variance is $\\alpha\\beta^2 = ma^2.$\n",
        "\n",
        "Again with the notation $s=|S_{vv}|^2 $ and  $a=|S^a_{vv}|^2$, if intensity measurements $s$ are summed over $m$ looks to give $\\sum_{i=1}^m s_i$, then according to this Theorem  the sum (not the average!) will be gamma distributed with $\\alpha= m$ and $\\beta=a$, provided the $s_i$ are independent. The look-averaged image is\n",
        "\n",
        "$$\n",
        "\\langle s\\rangle = {1\\over m}\\sum_{i=1}^m s_i \\tag{1.17}\n",
        "$$\n",
        "\n",
        "and its mean value is\n",
        "\n",
        "$$\n",
        "{\\rm mean}(\\langle s\\rangle) = {1\\over m}\\sum_{i=1}^m {\\rm mean}(s_i) = {1\\over m}\\sum_{i=1}^m a = a. \\tag{1.18}\n",
        "$$\n",
        "\n",
        "Now we see that the histogram of the Sentinel-1 multi-look image $\\langle s\\rangle =\\langle |S_{vv}|^2 \\rangle$ follows a gamma distribution with the parameters\n",
        "\n",
        "$$\n",
        "\\alpha=m,\\quad \\beta' = {a\\over m} = {{\\rm mean}(\\langle s\\rangle)\\over m}, \\tag{1.19}\n",
        "$$\n",
        "\n",
        "as we demonstrated earlier with the measured histogram.\n",
        "\n",
        "The covariance representation of the dual pol multilook images is\n",
        "\n",
        "$$\n",
        "C2 = \\pmatrix{\\langle|S_{vv}|^2\\rangle & 0 \\cr 0 & \\langle|S_{vh}|^2\\rangle}. \\tag{1.20}\n",
        "$$\n",
        "\n",
        "\n",
        "### Equivalent number of looks\n",
        "\n",
        "The variance of $\\langle s\\rangle$ is given by\n",
        "\n",
        "$$\n",
        "{\\rm var}(\\langle s\\rangle) = {1\\over m^2}{\\rm var}(\\sum_{i=1}^m s_i)= {1\\over m^2}ma^2 = {a^2\\over m}, \\tag{1.21}\n",
        "$$\n",
        "\n",
        "where we have used the fact that the variance of the gamma distribution is $\\alpha\\beta'^2=ma^2$. Thus the variance of the look-averaged image, the speckle effect, decreases inversely with the number of looks.\n",
        "\n",
        "\n",
        "In practice, the neighborhood pixel intensities contributing to the look average will not be completely independent, but correlated to some extent. This is accounted for by defining an _equivalent number of looks_\n",
        "(ENL) whose definition is motivated by Eq. (1.21), that is,\n",
        "\n",
        "$$\n",
        "{\\rm ENL} = {a^2\\over {\\rm var}(\\langle s\\rangle)} = {{\\rm mean}(\\langle s\\rangle)^2\\over {\\rm var}(\\langle s\\rangle)}.\\tag{1.22}\n",
        "$$\n",
        "\n",
        "In general it will be smaller than $m$. Let's see what we get for our subset of the airport image:"
      ]
    },
    {
      "cell_type": "code",
      "metadata": {
        "id": "3FIc22YZbI95",
        "colab": {
          "base_uri": "https://localhost:8080/"
        },
        "outputId": "515910a9-d23a-4b10-c99a-61a927bcddf8"
      },
      "source": [
        "mean ** 2 / variance\n",
        "\n",
        "# Calcula el coeficiente de forma (parámetro alpha) de una distribución gamma.\n",
        "# Este parámetro describe la forma de la distribución y se usa para ajustar modelos estadísticos."
      ],
      "execution_count": 16,
      "outputs": [
        {
          "output_type": "execute_result",
          "data": {
            "text/plain": [
              "4.324058395540761"
            ]
          },
          "metadata": {},
          "execution_count": 16
        }
      ]
    },
    {
      "cell_type": "markdown",
      "metadata": {
        "id": "hMrNjW56bNXF"
      },
      "source": [
        "The value given by the provider (ESA) for the IW mode imagery in the GEE archive is ENL = 4.4, an average over all swaths, so our spatial subset seems to be fairly representative.\n",
        "\n",
        "### Outlook\n",
        "\n",
        "Now we have a good idea of the statistics of the Sentinel-1 images on the GEE. In [Part 2](https://developers.google.com/earth-engine/tutorials/community/detecting-changes-in-sentinel-1-imagery-pt-2) of the Tutorial we will discuss statistical methods to detect changes in two Sentinel-1 images acquired at different times."
      ]
    }
  ]
}